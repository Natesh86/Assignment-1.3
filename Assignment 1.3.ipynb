{
 "cells": [
  {
   "cell_type": "code",
   "execution_count": 13,
   "metadata": {},
   "outputs": [
    {
     "name": "stdout",
     "output_type": "stream",
     "text": [
      "What is your first name:Chatakondla\n",
      "What is your last name:Gurunatesh\n",
      "Gurunatesh Chatakondla\n"
     ]
    }
   ],
   "source": [
    "first_name=input(\"What is your first name:\")# input first string\n",
    "last_name=input(\"What is your last name:\")# input second string\n",
    "Full_name=last_name + ' ' + first_name#printing in reverse order\n",
    "print(Full_name)"
   ]
  }
 ],
 "metadata": {
  "kernelspec": {
   "display_name": "Python 3",
   "language": "python",
   "name": "python3"
  },
  "language_info": {
   "codemirror_mode": {
    "name": "ipython",
    "version": 3
   },
   "file_extension": ".py",
   "mimetype": "text/x-python",
   "name": "python",
   "nbconvert_exporter": "python",
   "pygments_lexer": "ipython3",
   "version": "3.6.4"
  }
 },
 "nbformat": 4,
 "nbformat_minor": 2
}
